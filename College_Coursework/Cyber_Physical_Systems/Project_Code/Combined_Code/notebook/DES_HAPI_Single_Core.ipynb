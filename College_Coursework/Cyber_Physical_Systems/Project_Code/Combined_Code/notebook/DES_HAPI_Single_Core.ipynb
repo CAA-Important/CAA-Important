{
 "cells": [
  {
   "cell_type": "markdown",
   "metadata": {},
   "source": [
    "# Pynq-Z1 DES ACCELERATOR DEMO \n",
    "# HARDWARE API (HAPI)\n",
    "\n",
    "* FULLY PARALLEL DES ACCELERATOR CODE\n",
    "* Repository: https://github.com/IamVNIE/hapi-des\n",
    "* Based-on: https://github.com/Xilinx/PYNQ"
   ]
  },
  {
   "cell_type": "markdown",
   "metadata": {},
   "source": [
    "# Install package"
   ]
  },
  {
   "cell_type": "code",
   "execution_count": null,
   "metadata": {},
   "outputs": [],
   "source": [
    "!sudo -H pip install --upgrade 'git+https://github.com/IamVNIE/hapi-des'"
   ]
  },
  {
   "cell_type": "markdown",
   "metadata": {},
   "source": [
    "Step 1: Initialize DES ACCELERATOR"
   ]
  },
  {
   "cell_type": "code",
   "execution_count": 1,
   "metadata": {},
   "outputs": [
    {
     "data": {
      "application/javascript": [
       "\n",
       "require(['notebook/js/codecell'], function(codecell) {\n",
       "  codecell.CodeCell.options_default.highlight_modes[\n",
       "      'magic_text/x-csrc'] = {'reg':[/^%%microblaze/]};\n",
       "  Jupyter.notebook.events.one('kernel_ready.Kernel', function(){\n",
       "      Jupyter.notebook.get_cells().map(function(cell){\n",
       "          if (cell.cell_type == 'code'){ cell.auto_highlight(); } }) ;\n",
       "  });\n",
       "});\n"
      ]
     },
     "metadata": {},
     "output_type": "display_data"
    },
    {
     "name": "stderr",
     "output_type": "stream",
     "text": [
      "/usr/local/lib/python3.6/dist-packages/pynq/pl_server/device.py:594: UserWarning: Users will not get PARAMETERS / REGISTERS information through TCL files. HWH file is recommended.\n",
      "  warnings.warn(message, UserWarning)\n"
     ]
    },
    {
     "name": "stdout",
     "output_type": "stream",
     "text": [
      "DES ACCELERATOR RESET\n"
     ]
    }
   ],
   "source": [
    "from hapiDES import hapiDES\n",
    "from pynq import pl\n",
    "from pynq import Overlay\n",
    "des=hapiDES()\n",
    "des.reset_des_accel()"
   ]
  },
  {
   "cell_type": "markdown",
   "metadata": {},
   "source": [
    "Step 2: Initialize DES ACCELERATOR OPERATION -- SET TO ENCRYPTION"
   ]
  },
  {
   "cell_type": "code",
   "execution_count": 2,
   "metadata": {},
   "outputs": [
    {
     "name": "stdout",
     "output_type": "stream",
     "text": [
      "DES ACCELERATOR IS SET TO ENCRYPT\n",
      "-->SET A NEW KEY OR WILL USE THE PREVIOUS SET KEY\n"
     ]
    }
   ],
   "source": [
    "des.set_oper_encrypt()"
   ]
  },
  {
   "cell_type": "markdown",
   "metadata": {},
   "source": [
    "Step 3: Initialize ENCRYPTION KEY"
   ]
  },
  {
   "cell_type": "code",
   "execution_count": 3,
   "metadata": {},
   "outputs": [
    {
     "name": "stdout",
     "output_type": "stream",
     "text": [
      "CRYPTO KEY UPDATED\n"
     ]
    }
   ],
   "source": [
    "MyKey=[0xfdcb0,0x167cde]\n",
    "des.set_key(MyKey)"
   ]
  },
  {
   "cell_type": "markdown",
   "metadata": {},
   "source": [
    "Step 4: CHECK ENCRYPTION OPERATION ON SAMPLE DATA"
   ]
  },
  {
   "cell_type": "code",
   "execution_count": 4,
   "metadata": {},
   "outputs": [
    {
     "name": "stdout",
     "output_type": "stream",
     "text": [
      "DES ACCEL STATUS\n",
      "ACTIVE (NOT IN RESET)\n",
      "MODE:ENCRYPT\n"
     ]
    },
    {
     "data": {
      "text/plain": [
       "['0xdbd44175', '0x8cd6a970']"
      ]
     },
     "execution_count": 4,
     "metadata": {},
     "output_type": "execute_result"
    }
   ],
   "source": [
    "input_data=[0xFE123410,0x12354567]\n",
    "des.des_status()\n",
    "des.encrypt(input_data)"
   ]
  },
  {
   "cell_type": "markdown",
   "metadata": {},
   "source": [
    "PERFORM OPERATION ON LARGE INPUT -- CAN INPUT A FILE"
   ]
  },
  {
   "cell_type": "code",
   "execution_count": 5,
   "metadata": {},
   "outputs": [],
   "source": [
    "## This ia function to flatten the ASCII INPUT to HEX -- \n",
    "import time\n",
    "import math\n",
    "def data_formatter(txt):\n",
    "    dataIn=''.join(hex(ord(x))[2:] for x in txt)\n",
    "    print(dataIn)\n",
    "    print(len(dataIn))\n",
    "    vin=[]\n",
    "    for i in range(0,len(dataIn),8):\n",
    "        vin.append(''.join(map(str,dataIn[i:i+8])))\n",
    "    vin=['0x' + s for s in vin]\n",
    "    #print(\"INPUT\")\n",
    "    print(vin)\n",
    "    vin_bc=vin\n",
    "    vin=[int(x,16) for x in vin]\n",
    "    if len(vin)%2!=0:\n",
    "        vin.append(0)\n",
    "    return vin,vin_bc"
   ]
  },
  {
   "cell_type": "markdown",
   "metadata": {},
   "source": [
    "# Encryption on a Message"
   ]
  },
  {
   "cell_type": "code",
   "execution_count": 6,
   "metadata": {},
   "outputs": [
    {
     "name": "stdout",
     "output_type": "stream",
     "text": [
      "54686973206973206120736563726574\n",
      "32\n",
      "['0x54686973', '0x20697320', '0x61207365', '0x63726574']\n",
      "--- 0.003149271011352539 seconds ---\n",
      "--- 635.0676054205466 Blocks Per Second---\n",
      "ENCRYPTED CIPHER TEXT\n",
      "['0xe9d911cf', '0x75ee086f', '0x2ba28633', '0xb40f89f2']\n"
     ]
    }
   ],
   "source": [
    "txt =\"This is p a secret\"\n",
    "data_2send,enc_in_hex=data_formatter(txt)\n",
    "#print(enc_in_hex)\n",
    "cryptRes=[]\n",
    "j=0\n",
    "TOTAL_BLOCKS=len(data_2send)\n",
    "start_time = time.time()\n",
    "for i in range(0,len(data_2send),2):\n",
    "    cryptRes[j:j+1]=des.encrypt(data_2send[i:i+2])\n",
    "    j=j+2\n",
    "exec_time=time.time() - start_time\n",
    "print(\"--- %s seconds ---\" % (exec_time))\n",
    "print(\"--- %s Blocks Per Second---\" % ((math.pow(1, 1))*(TOTAL_BLOCKS/2)/exec_time))\n",
    "print(\"ENCRYPTED CIPHER TEXT\")\n",
    "print(cryptRes)"
   ]
  },
  {
   "cell_type": "markdown",
   "metadata": {},
   "source": [
    "# Decryption of encrypted message"
   ]
  },
  {
   "cell_type": "code",
   "execution_count": 7,
   "metadata": {},
   "outputs": [
    {
     "name": "stdout",
     "output_type": "stream",
     "text": [
      "DES ACCELERATOR IS SET TO DECRYPT\n",
      "-->SET A NEW KEY OR WILL USE THE PREVIOUS SET KEY\n",
      "['0xe9d911cf', '0x75ee086f', '0x2ba28633', '0xb40f89f2']\n",
      "éÙ\u0011Ïuî\bo+¢3´\u000fò\n",
      "e9d911cf75ee86f2ba28633b4f89f2\n",
      "30\n",
      "['0xe9d911cf', '0x75ee86f2', '0xba28633b', '0x4f89f2']\n",
      "[3923317199, 1978566386, 3123209019, 5212658]\n",
      "[3923317199, 1978533999, 732071475, 3020917234]\n",
      "--- 0.0013544559478759766 seconds ---\n",
      "--- 1476.607639500088 Blocks Per Second---\n",
      "['0x54686973', '0x20697320', '0x61207365', '0x63726574']\n"
     ]
    }
   ],
   "source": [
    "des.set_oper_decrypt()\n",
    "decipher=[]\n",
    "j=0\n",
    "TOTAL_BLOCKS=len(cryptRes)\n",
    "print(cryptRes)\n",
    "dec=(''.join(map(str,cryptRes)))\n",
    "dec=dec.replace(\"0x\",\"\")\n",
    "#print(dec)\n",
    "ascii_string =''\n",
    "x = 0\n",
    "y = 2\n",
    "l = len(dec)\n",
    "while y <= l:\n",
    "    ascii_string += chr(int(dec[x:y], 16))\n",
    "    x += 2\n",
    "    y += 2\n",
    "print (ascii_string)\n",
    "temp, temp2 = data_formatter(ascii_string)\n",
    "print (temp)\n",
    "cryptRes=[int(x,16) for x in cryptRes]\n",
    "print(cryptRes)\n",
    "start_time = time.time()\n",
    "for i in range(0,len(cryptRes),2):\n",
    "    decipher[j:j+1]=des.decrypt(cryptRes[i:i+2])\n",
    "    j=j+2\n",
    "exec_time=time.time() - start_time\n",
    "print(\"--- %s seconds ---\" % (exec_time))\n",
    "print(\"--- %s Blocks Per Second---\" % ((math.pow(1, 1))*(TOTAL_BLOCKS/2)/exec_time))\n",
    "print(decipher)"
   ]
  },
  {
   "cell_type": "markdown",
   "metadata": {},
   "source": [
    "Verifying if we got the original input"
   ]
  },
  {
   "cell_type": "code",
   "execution_count": null,
   "metadata": {},
   "outputs": [],
   "source": [
    "#bool(set(decipher) & set(enc_in_hex))\n",
    "print(set(decipher)^set(enc_in_hex))\n",
    "#print(x) for x,y in (decipher,enc_in_hex) if x!=y"
   ]
  },
  {
   "cell_type": "markdown",
   "metadata": {},
   "source": [
    "# Print the message back in ascii"
   ]
  },
  {
   "cell_type": "code",
   "execution_count": null,
   "metadata": {},
   "outputs": [],
   "source": [
    "dec=(''.join(map(str,decipher)))\n",
    "dec=dec.replace(\"0x\",\"\")\n",
    "print(dec)\n",
    "ascii_string =''\n",
    "x = 0\n",
    "y = 2\n",
    "l = len(dec)\n",
    "while y <= l:\n",
    "    ascii_string += chr(int(dec[x:y], 16))\n",
    "    x += 2\n",
    "    y += 2\n",
    "print (ascii_string)"
   ]
  },
  {
   "cell_type": "code",
   "execution_count": null,
   "metadata": {},
   "outputs": [],
   "source": [
    "print(str(2 + 2))"
   ]
  },
  {
   "cell_type": "code",
   "execution_count": 8,
   "metadata": {},
   "outputs": [
    {
     "name": "stdout",
     "output_type": "stream",
     "text": [
      "546869732069732070206120736563726574\n",
      "36\n",
      "['0x54686973', '0x20697320', '0x70206120', '0x73656372', '0x6574']\n"
     ]
    }
   ],
   "source": [
    "txt =\"This is p a secret\"\n",
    "data_2send,enc_in_hex=data_formatter(txt)"
   ]
  },
  {
   "cell_type": "code",
   "execution_count": null,
   "metadata": {},
   "outputs": [],
   "source": []
  }
 ],
 "metadata": {
  "kernelspec": {
   "display_name": "Python 3",
   "language": "python",
   "name": "python3"
  },
  "language_info": {
   "codemirror_mode": {
    "name": "ipython",
    "version": 3
   },
   "file_extension": ".py",
   "mimetype": "text/x-python",
   "name": "python",
   "nbconvert_exporter": "python",
   "pygments_lexer": "ipython3",
   "version": "3.6.5"
  }
 },
 "nbformat": 4,
 "nbformat_minor": 1
}
